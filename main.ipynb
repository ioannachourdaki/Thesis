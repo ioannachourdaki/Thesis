{
  "cells": [
    {
      "cell_type": "code",
      "execution_count": null,
      "metadata": {
        "colab": {
          "base_uri": "https://localhost:8080/"
        },
        "collapsed": true,
        "id": "wZc5Q3S6yZ3P",
        "outputId": "e74797fd-ddb0-42ac-fc8a-7cc8b8ec76e0"
      },
      "outputs": [],
      "source": [
        "!pip install mne"
      ]
    },
    {
      "cell_type": "code",
      "execution_count": 2,
      "metadata": {
        "colab": {
          "base_uri": "https://localhost:8080/"
        },
        "id": "1YF8njCdye2p",
        "outputId": "41f5f388-6a15-4fab-c5a0-fcabe5cecdc5"
      },
      "outputs": [
        {
          "name": "stdout",
          "output_type": "stream",
          "text": [
            "Mounted at /content/drive\n"
          ]
        }
      ],
      "source": [
        "from google.colab import drive\n",
        "drive.mount('/content/drive')"
      ]
    },
    {
      "cell_type": "code",
      "execution_count": 3,
      "metadata": {
        "id": "En7LJHBAygAA"
      },
      "outputs": [],
      "source": [
        "import os\n",
        "os.chdir('/content/drive/My Drive/Thesis/SEED')"
      ]
    },
    {
      "cell_type": "code",
      "execution_count": 4,
      "metadata": {
        "id": "nmFeT-IbyqmU"
      },
      "outputs": [],
      "source": [
        "import mne\n",
        "import io\n",
        "import os\n",
        "import numpy as np\n",
        "import scipy.io\n",
        "import matplotlib.pyplot as plt"
      ]
    },
    {
      "cell_type": "code",
      "execution_count": null,
      "metadata": {
        "colab": {
          "base_uri": "https://localhost:8080/"
        },
        "collapsed": true,
        "id": "fYWQywykyr-Z",
        "outputId": "a6d64607-a17a-434f-ffa4-1da61c326b09"
      },
      "outputs": [],
      "source": [
        "from src.loader import SEEDLoader\n",
        "\n",
        "dataset = SEEDLoader('./', './label.mat')"
      ]
    },
    {
      "cell_type": "code",
      "execution_count": null,
      "metadata": {
        "colab": {
          "base_uri": "https://localhost:8080/"
        },
        "collapsed": true,
        "id": "jZ12b11_zGUI",
        "outputId": "a0e8e4dd-7349-4161-809f-f6a791b5af82"
      },
      "outputs": [],
      "source": [
        "from src.features import feature_extraction\n",
        "\n",
        "features = ['mean_iam','mean_ifm']\n",
        "kwargs = {'window': 200,\n",
        "          'overlap': 0.5,\n",
        "          'mode': 'linear'}\n",
        "\n",
        "feature_matrix = feature_extraction(dataset, features, 'desa1', **kwargs)"
      ]
    }
  ],
  "metadata": {
    "colab": {
      "provenance": []
    },
    "kernelspec": {
      "display_name": "Python 3",
      "name": "python3"
    },
    "language_info": {
      "name": "python"
    }
  },
  "nbformat": 4,
  "nbformat_minor": 0
}
